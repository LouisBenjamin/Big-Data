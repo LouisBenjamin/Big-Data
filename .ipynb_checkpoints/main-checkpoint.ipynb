{
 "cells": [
  {
   "cell_type": "markdown",
   "metadata": {},
   "source": [
    "mcu data: https://www.kaggle.com/pdunton/marvel-cinematic-universe-dialogue?select=mcu_subset.csv\n"
   ]
  },
  {
   "cell_type": "markdown",
   "metadata": {},
   "source": [
    "dataset: https://www.kaggle.com/cosmos98/twitter-and-reddit-sentimental-analysis-dataset"
   ]
  },
  {
   "cell_type": "code",
   "execution_count": 80,
   "metadata": {},
   "outputs": [],
   "source": [
    "from pyspark.sql.types import *\n",
    "from pyspark.sql.functions import *\n",
    "from pyspark.ml import Pipeline\n",
    "from pyspark.ml.classification import LogisticRegression, RandomForestClassifier, LinearSVC, OneVsRest\n",
    "from pyspark.ml.feature import HashingTF, Tokenizer, StopWordsRemover, RegexTokenizer, PCA, IndexToString, StringIndexer, VectorIndexer\n",
    "from pyspark.mllib.regression import LabeledPoint\n",
    "from IPython.display import Image\n",
    "from pyspark.sql import SparkSession\n",
    "import IPython\n",
    "from pyspark.mllib.evaluation import MulticlassMetrics\n",
    "from pyspark.ml.evaluation import MulticlassClassificationEvaluator\n",
    "import pandas as pd\n",
    "from sklearn.naive_bayes import GaussianNB\n",
    "import time"
   ]
  },
  {
   "cell_type": "code",
   "execution_count": 81,
   "metadata": {},
   "outputs": [],
   "source": [
    "def init_spark():\n",
    "    spark = SparkSession \\\n",
    "        .builder \\\n",
    "        .appName(\"Python Spark SQL basic example\") \\\n",
    "        .config(\"spark.some.config.option\", \"some-value\") \\\n",
    "        .getOrCreate()\n",
    "    return spark\n",
    "spark = init_spark()"
   ]
  },
  {
   "cell_type": "markdown",
   "metadata": {},
   "source": [
    "# 1. Data Preparation"
   ]
  },
  {
   "cell_type": "markdown",
   "metadata": {},
   "source": [
    "![display image](https://media.giphy.com/media/3oxHQjRHcp4w9oi24M/giphy.gif)"
   ]
  },
  {
   "cell_type": "code",
   "execution_count": 82,
   "metadata": {},
   "outputs": [],
   "source": [
    "read_csv = spark.read.csv('data/Twitter_Data_utf8.csv', inferSchema=True, header=True)"
   ]
  },
  {
   "cell_type": "code",
   "execution_count": 83,
   "metadata": {},
   "outputs": [],
   "source": [
    "data = read_csv.select(\"clean_text\", col(\"category\").cast(\"Int\").alias(\"label\")).dropna().dropDuplicates().replace(-1,2).orderBy(rand()).limit(140000)"
   ]
  },
  {
   "cell_type": "code",
   "execution_count": null,
   "metadata": {},
   "outputs": [],
   "source": []
  },
  {
   "cell_type": "code",
   "execution_count": 84,
   "metadata": {
    "scrolled": true
   },
   "outputs": [
    {
     "data": {
      "image/png": "[encoded data removed]",
      "text/plain": [
       "<Figure size 432x288 with 1 Axes>"
      ]
     },
     "metadata": {
      "needs_background": "light"
     },
     "output_type": "display_data"
    }
   ],
   "source": [
    "data_p = data.drop('clean_text').toPandas()\n",
    "hist = data_p.hist(bins=3)"
   ]
  },
  {
   "cell_type": "code",
   "execution_count": null,
   "metadata": {},
   "outputs": [],
   "source": []
  },
  {
   "cell_type": "code",
   "execution_count": 85,
   "metadata": {},
   "outputs": [
    {
     "name": "stdout",
     "output_type": "stream",
     "text": [
      "Training data has 97949 rows.\n",
      "Testing data has 42051 rows.\n"
     ]
    }
   ],
   "source": [
    "\n",
    "split = data.randomSplit([0.7, 0.3])\n",
    "trainingData = split[0]\n",
    "testingData = split[1]\n",
    "print (\"Training data has\", split[0].count(), 'rows.')\n",
    "print (\"Testing data has\", split[1].count(), 'rows.')"
   ]
  },
  {
   "cell_type": "markdown",
   "metadata": {},
   "source": [
    "### Cleaning The Data (Tokenizing and Stop Word Removing)"
   ]
  },
  {
   "cell_type": "code",
   "execution_count": 86,
   "metadata": {},
   "outputs": [],
   "source": [
    "stopwordList = ['i', 'me', 'my', 'myself', 'we', 'our', 'ours', 'ourselves', 'you', \"you're\", \"you've\", \"you'll\", \"you'd\", 'your', 'yours', 'yourself', 'yourselves', 'he', 'him', 'his', 'himself', 'she', \"she's\", 'her', 'hers', 'herself', 'it', \"it's\", 'its', 'itself', 'they', 'them', 'their', 'theirs', 'themselves', 'what', 'which', 'who', 'whom', 'this', 'that', \"that'll\", 'these', 'those', 'am', 'is', 'are', 'was', 'were', 'be', 'been', 'being', 'have', 'has', 'had', 'having', 'do', 'does', 'did', 'doing', 'a', 'an', 'the', 'and', 'but', 'if', 'or', 'because', 'as', 'until', 'while', 'of', 'at', 'by', 'for', 'with', 'about', 'against', 'between', 'into', 'through', 'during', 'before', 'after', 'above', 'below', 'to', 'from', 'up', 'down', 'in', 'out', 'on', 'off', 'over', 'under', 'again', 'further', 'then', 'once', 'here', 'there', 'when', 'where', 'why', 'how', 'all', 'any', 'both', 'each', 'few', 'more', 'most', 'other', 'some', 'such', 'no', 'nor', 'not', 'only', 'own', 'same', 'so', 'than', 'too', 'very', 's', 't', 'can', 'will', 'just', 'don', \"don't\", 'should', \"should've\", 'now', 'd', 'll', 'm', 'o', 're', 've', 'y', 'ain', 'aren', \"aren't\", 'couldn', \"couldn't\", 'didn', \"didn't\", 'doesn', \"doesn't\", 'hadn', \"hadn't\", 'hasn', \"hasn't\", 'haven', \"haven't\", 'isn', \"isn't\", 'ma', 'mightn', \"mightn't\", 'mustn', \"mustn't\", 'needn', \"needn't\", 'shan', \"shan't\", 'shouldn', \"shouldn't\", 'wasn', \"wasn't\", 'weren', \"weren't\", 'won', \"won't\", 'wouldn', \"wouldn't\"]"
   ]
  },
  {
   "cell_type": "code",
   "execution_count": 87,
   "metadata": {},
   "outputs": [],
   "source": [
    "stopwordList.extend(StopWordsRemover().getStopWords())\n"
   ]
  },
  {
   "cell_type": "code",
   "execution_count": 88,
   "metadata": {},
   "outputs": [
    {
     "name": "stdout",
     "output_type": "stream",
     "text": [
      "+--------------------+-----+--------------------+--------------------+\n",
      "|          clean_text|label|              Tokens|         NoStopWords|\n",
      "+--------------------+-----+--------------------+--------------------+\n",
      "|                    |    0|                  []|                  []|\n",
      "|     fan opens mo...|    0|[fan, opens, modi...|[fan, opens, modi...|\n",
      "|                   \"|    1|                  []|                  []|\n",
      "|    please please...|    0|[please, please, ...|[please, please, ...|\n",
      "|                   \"|    0|                  []|                  []|\n",
      "|   can finally re...|    0|[can, finally, re...|[finally, read, m...|\n",
      "|   dont pappu  mo...|    1|[dont, pappu, mod...|[dont, pappu, mod...|\n",
      "|   modi invested ...|    1|[modi, invested, ...|[modi, invested, ...|\n",
      "|                   \"|    2|                  []|                  []|\n",
      "|  all the best de...|    1|[all, the, best, ...|[best, dear, brot...|\n",
      "+--------------------+-----+--------------------+--------------------+\n",
      "only showing top 10 rows\n",
      "\n",
      "+--------------------+-----+--------------------+--------------------+\n",
      "|          clean_text|label|              Tokens|         NoStopWords|\n",
      "+--------------------+-----+--------------------+--------------------+\n",
      "|                   \"|    1|                  []|                  []|\n",
      "|   any idea what ...|    1|[any, idea, what,...|[idea, yrs, rule,...|\n",
      "|                   \"|    1|                  []|                  []|\n",
      "|  and other oppos...|    1|[and, other, oppo...|[opposition, part...|\n",
      "|  india mein nahi...|    2|[india, mein, nah...|[india, mein, nah...|\n",
      "|  modi will come ...|    0|[modi, will, come...|        [modi, come]|\n",
      "|  modi’ address t...|    0|[modi’, address, ...|[modi’, address, ...|\n",
      "|  ship shorty mod...|    0|[ship, shorty, mo...|[ship, shorty, mo...|\n",
      "|  supporter fake ...|    2|[supporter, fake,...|[supporter, fake,...|\n",
      "|  — feeling inspired|    0|[—, feeling, insp...|[—, feeling, insp...|\n",
      "+--------------------+-----+--------------------+--------------------+\n",
      "only showing top 10 rows\n",
      "\n"
     ]
    }
   ],
   "source": [
    "#inputCol = \"SentimentText\"\n",
    "inputCol = \"clean_text\"\n",
    "\n",
    "tokenizer = RegexTokenizer(pattern=r'(?:\\p{Punct}|\\s)+', inputCol=inputCol, outputCol=\"Tokens\")\n",
    "swr = StopWordsRemover(inputCol=tokenizer.getOutputCol(), outputCol=\"NoStopWords\", stopWords=stopwordList)\n",
    "\n",
    "token_train = tokenizer.transform(trainingData)\n",
    "nosw_train = swr.transform(token_train)\n",
    "\n",
    "token_test = tokenizer.transform(testingData)\n",
    "nosw_test = swr.transform(token_test)\n",
    "\n",
    "nosw_train.show(truncate=True, n=10)\n",
    "nosw_test.show(truncate=True, n=10)"
   ]
  },
  {
   "cell_type": "markdown",
   "metadata": {},
   "source": [
    "### Hashing The Features using HashingTF"
   ]
  },
  {
   "cell_type": "code",
   "execution_count": 89,
   "metadata": {},
   "outputs": [
    {
     "name": "stdout",
     "output_type": "stream",
     "text": [
      "+-----+--------------------+--------------------+\n",
      "|label|              Tokens|            features|\n",
      "+-----+--------------------+--------------------+\n",
      "|    0|                  []|      (262144,[],[])|\n",
      "|    0|[fan, opens, modi...|(262144,[18911,72...|\n",
      "|    1|                  []|      (262144,[],[])|\n",
      "|    0|[please, please, ...|(262144,[49918,16...|\n",
      "|    0|                  []|      (262144,[],[])|\n",
      "+-----+--------------------+--------------------+\n",
      "only showing top 5 rows\n",
      "\n",
      "+-----+--------------------+--------------------+\n",
      "|label|              Tokens|            features|\n",
      "+-----+--------------------+--------------------+\n",
      "|    1|                  []|      (262144,[],[])|\n",
      "|    1|[any, idea, what,...|(262144,[30020,31...|\n",
      "|    1|                  []|      (262144,[],[])|\n",
      "|    1|[and, other, oppo...|(262144,[6801,394...|\n",
      "|    2|[india, mein, nah...|(262144,[12650,29...|\n",
      "+-----+--------------------+--------------------+\n",
      "only showing top 5 rows\n",
      "\n"
     ]
    }
   ],
   "source": [
    "hashTF = HashingTF(inputCol=swr.getOutputCol(), outputCol=\"features\")\n",
    "hash_train = hashTF.transform(nosw_train).select(\n",
    "    'label', 'Tokens', 'features')\n",
    "\n",
    "hash_test = hashTF.transform(nosw_test).select(\n",
    "    'label', 'Tokens', 'features')\n",
    "hash_train.show(n=5)\n",
    "hash_test.show(n=5)"
   ]
  },
  {
   "cell_type": "markdown",
   "metadata": {},
   "source": [
    "### Adding weights"
   ]
  },
  {
   "cell_type": "code",
   "execution_count": 90,
   "metadata": {},
   "outputs": [
    {
     "name": "stdout",
     "output_type": "stream",
     "text": [
      "+-----+-----+\n",
      "|label|count|\n",
      "+-----+-----+\n",
      "|    0|33113|\n",
      "|    1|43338|\n",
      "|    2|21498|\n",
      "+-----+-----+\n",
      "\n",
      "+-----+--------------------+--------------------+-------------------+\n",
      "|label|              Tokens|            features|       classWeights|\n",
      "+-----+--------------------+--------------------+-------------------+\n",
      "|    0|                  []|      (262144,[],[])|0.21948156693789625|\n",
      "|    0|[fan, opens, modi...|(262144,[18911,72...|0.21948156693789625|\n",
      "|    1|                  []|      (262144,[],[])|0.44245474685805886|\n",
      "|    0|[please, please, ...|(262144,[49918,16...|0.21948156693789625|\n",
      "|    0|                  []|      (262144,[],[])|0.21948156693789625|\n",
      "|    0|[can, finally, re...|(262144,[7625,409...|0.21948156693789625|\n",
      "|    1|[dont, pappu, mod...|(262144,[40963,45...|0.44245474685805886|\n",
      "|    1|[modi, invested, ...|(262144,[2284,409...|0.44245474685805886|\n",
      "|    2|                  []|      (262144,[],[])|  0.338063686204045|\n",
      "|    1|[all, the, best, ...|(262144,[40963,49...|0.44245474685805886|\n",
      "+-----+--------------------+--------------------+-------------------+\n",
      "only showing top 10 rows\n",
      "\n"
     ]
    }
   ],
   "source": [
    "train_size = hash_train.count()\n",
    "ratios = hash_train.groupBy('label').count()\n",
    "ratios.show()\n",
    "pos_ratio = (ratios.collect()[0][1])/train_size\n",
    "neg_ratio = (ratios.collect()[1][1])/train_size \n",
    "neut_ratio = (ratios.collect()[2][1])/train_size \n",
    "\n",
    "train=hash_train.withColumn(\"classWeights\", when(hash_train.label == 1,1-pos_ratio-neut_ratio).when(hash_train.label == 2,pos_ratio).otherwise(neut_ratio))\n",
    "train.show(10)"
   ]
  },
  {
   "cell_type": "markdown",
   "metadata": {},
   "source": [
    "# 2. Training "
   ]
  },
  {
   "cell_type": "markdown",
   "metadata": {},
   "source": [
    "![display image](https://media.giphy.com/media/dfJ0ns8LBXNni/giphy.gif)"
   ]
  },
  {
   "cell_type": "code",
   "execution_count": null,
   "metadata": {},
   "outputs": [],
   "source": []
  },
  {
   "cell_type": "code",
   "execution_count": 91,
   "metadata": {},
   "outputs": [],
   "source": [
    "#mlor = LogisticRegression(weightCol = \"classWeights\", family = 'multinomial')\n",
    "mlor = LogisticRegression(maxIter=10, tol=1E-6, fitIntercept=True)"
   ]
  },
  {
   "cell_type": "code",
   "execution_count": 92,
   "metadata": {},
   "outputs": [],
   "source": [
    "ovr = OneVsRest(classifier=mlor)"
   ]
  },
  {
   "cell_type": "code",
   "execution_count": 93,
   "metadata": {},
   "outputs": [
    {
     "name": "stdout",
     "output_type": "stream",
     "text": [
      "Training done in 18.49729013442993 seconds.\n"
     ]
    }
   ],
   "source": [
    "start = time.time()\n",
    "#model= mlor.fit(train)\n",
    "model = ovr.fit(hash_train)\n",
    "end = time.time()\n",
    "\n",
    "print('Training done in '+str(end - start)+' seconds.')"
   ]
  },
  {
   "cell_type": "code",
   "execution_count": 94,
   "metadata": {
    "scrolled": true
   },
   "outputs": [],
   "source": [
    "predictionss = model.transform(hash_test)\n",
    "#prediction.show(5)"
   ]
  },
  {
   "cell_type": "code",
   "execution_count": null,
   "metadata": {},
   "outputs": [],
   "source": []
  },
  {
   "cell_type": "markdown",
   "metadata": {},
   "source": [
    "### Accuracy model"
   ]
  },
  {
   "cell_type": "code",
   "execution_count": 95,
   "metadata": {},
   "outputs": [
    {
     "name": "stdout",
     "output_type": "stream",
     "text": [
      "+----------+-----+\n",
      "|prediction|label|\n",
      "+----------+-----+\n",
      "|       0.0|    1|\n",
      "|       1.0|    1|\n",
      "|       0.0|    1|\n",
      "|       2.0|    1|\n",
      "|       1.0|    2|\n",
      "+----------+-----+\n",
      "only showing top 5 rows\n",
      "\n"
     ]
    }
   ],
   "source": [
    "predictionFinal = predictionss.select(\"prediction\", \"label\")\n",
    "predictionFinal.show(n=5)"
   ]
  },
  {
   "cell_type": "code",
   "execution_count": 96,
   "metadata": {},
   "outputs": [],
   "source": [
    "# match = predictionFinal.filter(predictionFinal['prediction'] == predictionFinal['label']).count()\n",
    "# total = predictionFinal.count()\n",
    "# print(\"Accuracy:\", match/total)"
   ]
  },
  {
   "cell_type": "code",
   "execution_count": 97,
   "metadata": {},
   "outputs": [
    {
     "name": "stdout",
     "output_type": "stream",
     "text": [
      "Summary Stats\n",
      "Accuracy = 0.7563674259315654 \n",
      "Precision = 0.7573595068384609\n",
      "Recall = 0.7567477586739911\n",
      "F1 Score = 0.7563674259315654\n"
     ]
    }
   ],
   "source": [
    "evaluatorMulti = MulticlassClassificationEvaluator(labelCol=\"label\", predictionCol=\"prediction\")\n",
    "temp = predictionFinal.drop('Tokens')\n",
    "# get metrics\n",
    "f1 = evaluatorMulti.evaluate(temp, {evaluatorMulti.metricName: \"f1\"})\n",
    "weightedPrecision = evaluatorMulti.evaluate(temp, {evaluatorMulti.metricName: \"weightedPrecision\"})\n",
    "weightedRecall = evaluatorMulti.evaluate(temp, {evaluatorMulti.metricName: \"weightedRecall\"})\n",
    "accuracy = evaluatorMulti.evaluate(predictionss)\n",
    "\n",
    "\n",
    "print(\"Summary Stats\")\n",
    "print(\"Accuracy = %s \" % accuracy)\n",
    "print(\"Precision = %s\" % weightedPrecision)\n",
    "print(\"Recall = %s\" % weightedRecall)\n",
    "print(\"F1 Score = %s\" % f1)"
   ]
  },
  {
   "cell_type": "markdown",
   "metadata": {},
   "source": [
    "# 3. Applying model to MCU Scripts"
   ]
  },
  {
   "cell_type": "markdown",
   "metadata": {},
   "source": [
    "![display image](https://media.giphy.com/media/j2pWZpr5RlpCodOB0d/giphy.gif)"
   ]
  },
  {
   "cell_type": "code",
   "execution_count": 98,
   "metadata": {},
   "outputs": [
    {
     "name": "stdout",
     "output_type": "stream",
     "text": [
      "Lines of Dialogue: 6509\n"
     ]
    }
   ],
   "source": [
    "mcu_csv = spark.read.csv('data/mcu_subset.csv', inferSchema=True, header=True)\n",
    "print(\"Lines of Dialogue:\", mcu_csv.count())"
   ]
  },
  {
   "cell_type": "code",
   "execution_count": 99,
   "metadata": {},
   "outputs": [
    {
     "name": "stdout",
     "output_type": "stream",
     "text": [
      "+----------+--------------------+\n",
      "| character|                line|\n",
      "+----------+--------------------+\n",
      "|TONY STARK|Oh, I get it.  Yo...|\n",
      "|TONY STARK|Oh.  I see.  So i...|\n",
      "|TONY STARK|Good God, you’re ...|\n",
      "|TONY STARK|             Please.|\n",
      "|TONY STARK|Excellent questio...|\n",
      "+----------+--------------------+\n",
      "only showing top 5 rows\n",
      "\n"
     ]
    }
   ],
   "source": [
    "mcu_data = mcu_csv.select(\"character\",\"line\")\n",
    "mcu_data.show(n=5)"
   ]
  },
  {
   "cell_type": "code",
   "execution_count": 100,
   "metadata": {},
   "outputs": [
    {
     "name": "stdout",
     "output_type": "stream",
     "text": [
      "+----------+--------------------+--------------------+--------------------+\n",
      "| character|                line|            new_line|                 new|\n",
      "+----------+--------------------+--------------------+--------------------+\n",
      "|TONY STARK|Oh, I get it.  Yo...|[oh,, i, get, it....|[oh,, get, it., ,...|\n",
      "|TONY STARK|Oh.  I see.  So i...|[oh., , i, see., ...|[oh., , see., , i...|\n",
      "|TONY STARK|Good God, you’re ...|[good, god,, you’...|[good, god,, you’...|\n",
      "|TONY STARK|             Please.|           [please.]|           [please.]|\n",
      "|TONY STARK|Excellent questio...|[excellent, quest...|[excellent, quest...|\n",
      "+----------+--------------------+--------------------+--------------------+\n",
      "only showing top 5 rows\n",
      "\n"
     ]
    }
   ],
   "source": [
    "t = Tokenizer(inputCol=\"line\", outputCol=\"new_line\")\n",
    "swr_MCU = StopWordsRemover(inputCol=t.getOutputCol(), \n",
    "                       outputCol=\"new\", stopWords=stopwordList)\n",
    "token_MCU = t.transform(mcu_data)\n",
    "nosw_MCU = swr_MCU.transform(token_MCU)\n",
    "nosw_MCU.show(n=5)\n"
   ]
  },
  {
   "cell_type": "code",
   "execution_count": 101,
   "metadata": {},
   "outputs": [
    {
     "name": "stdout",
     "output_type": "stream",
     "text": [
      "+----------+--------------------+--------------------+\n",
      "| character|                 new|            features|\n",
      "+----------+--------------------+--------------------+\n",
      "|TONY STARK|[oh,, get, it., ,...|(262144,[44954,84...|\n",
      "|TONY STARK|[oh., , see., , i...|(262144,[8938,109...|\n",
      "|TONY STARK|[good, god,, you’...|(262144,[6808,353...|\n",
      "+----------+--------------------+--------------------+\n",
      "only showing top 3 rows\n",
      "\n"
     ]
    }
   ],
   "source": [
    "hashTF = HashingTF(inputCol=swr_MCU.getOutputCol(), outputCol=\"features\")\n",
    "hash_MCU = hashTF.transform(nosw_MCU).select('character','new', 'features')\n",
    "hash_MCU.show(n=3)"
   ]
  },
  {
   "cell_type": "code",
   "execution_count": 102,
   "metadata": {},
   "outputs": [
    {
     "name": "stdout",
     "output_type": "stream",
     "text": [
      "+----------+--------------------+----------+\n",
      "| character|                 new|prediction|\n",
      "+----------+--------------------+----------+\n",
      "|TONY STARK|[oh,, get, it., ,...|       0.0|\n",
      "|TONY STARK|[oh., , see., , i...|       2.0|\n",
      "|TONY STARK|[good, god,, you’...|       1.0|\n",
      "|TONY STARK|           [please.]|       1.0|\n",
      "|TONY STARK|[excellent, quest...|       1.0|\n",
      "+----------+--------------------+----------+\n",
      "only showing top 5 rows\n",
      "\n"
     ]
    }
   ],
   "source": [
    "prediction_mcu = model.transform(hash_MCU)\n",
    "predictionFinal_mcu = prediction_mcu.select(\n",
    "  'character', \"new\", \"prediction\")\n",
    "predictionFinal_mcu.show(5)"
   ]
  },
  {
   "cell_type": "markdown",
   "metadata": {},
   "source": [
    "# Analysis"
   ]
  },
  {
   "cell_type": "code",
   "execution_count": 103,
   "metadata": {},
   "outputs": [
    {
     "name": "stdout",
     "output_type": "stream",
     "text": [
      "+----------+-----+\n",
      "|prediction|count|\n",
      "+----------+-----+\n",
      "|       0.0| 3748|\n",
      "|       1.0| 1737|\n",
      "|       2.0| 1024|\n",
      "+----------+-----+\n",
      "\n"
     ]
    }
   ],
   "source": [
    "test = predictionFinal_mcu.groupBy('prediction').count()\n",
    "test.show()"
   ]
  },
  {
   "cell_type": "code",
   "execution_count": 104,
   "metadata": {},
   "outputs": [
    {
     "name": "stdout",
     "output_type": "stream",
     "text": [
      "+------------+----------+-----+\n",
      "|   character|prediction|count|\n",
      "+------------+----------+-----+\n",
      "|JAMES RHODES|       1.0|   94|\n",
      "|STEVE ROGERS|       0.0|  612|\n",
      "|        THOR|       0.0|  501|\n",
      "|  TONY STARK|       0.0|  957|\n",
      "|PETER PARKER|       1.0|  116|\n",
      "|PETER PARKER|       0.0|  352|\n",
      "|   NICK FURY|       2.0|   55|\n",
      "|BRUCE BANNER|       0.0|  210|\n",
      "|  TONY STARK|       2.0|  281|\n",
      "|        THOR|       1.0|  230|\n",
      "+------------+----------+-----+\n",
      "only showing top 10 rows\n",
      "\n"
     ]
    }
   ],
   "source": [
    "char = predictionFinal_mcu.groupBy('character', 'prediction').count()\n",
    "char.show(10)"
   ]
  },
  {
   "cell_type": "code",
   "execution_count": 105,
   "metadata": {},
   "outputs": [],
   "source": [
    "df = char.toPandas()"
   ]
  },
  {
   "cell_type": "code",
   "execution_count": 106,
   "metadata": {},
   "outputs": [],
   "source": [
    "newf = df.pivot(index='prediction', columns='character')\n",
    "newf.columns = newf.columns.droplevel(0)"
   ]
  },
  {
   "cell_type": "code",
   "execution_count": 112,
   "metadata": {
    "scrolled": true
   },
   "outputs": [
    {
     "data": {
      "text/plain": [
       "array([[<matplotlib.axes._subplots.AxesSubplot object at 0x000001CFA0E946A0>,\n",
       "        <matplotlib.axes._subplots.AxesSubplot object at 0x000001CFA0EDDF70>,\n",
       "        <matplotlib.axes._subplots.AxesSubplot object at 0x000001CFA0F0A220>,\n",
       "        <matplotlib.axes._subplots.AxesSubplot object at 0x000001CFA0F383A0>],\n",
       "       [<matplotlib.axes._subplots.AxesSubplot object at 0x000001CFA0F65520>,\n",
       "        <matplotlib.axes._subplots.AxesSubplot object at 0x000001CFA17B36A0>,\n",
       "        <matplotlib.axes._subplots.AxesSubplot object at 0x000001CFA17C1640>,\n",
       "        <matplotlib.axes._subplots.AxesSubplot object at 0x000001CFA17EE7F0>],\n",
       "       [<matplotlib.axes._subplots.AxesSubplot object at 0x000001CFA183EAF0>,\n",
       "        <matplotlib.axes._subplots.AxesSubplot object at 0x000001CFA186CC70>,\n",
       "        <matplotlib.axes._subplots.AxesSubplot object at 0x000001CFA18A6CD0>,\n",
       "        <matplotlib.axes._subplots.AxesSubplot object at 0x000001CFA18D22E0>]],\n",
       "      dtype=object)"
      ]
     },
     "execution_count": 112,
     "metadata": {},
     "output_type": "execute_result"
    },
    {
     "data": {
      "image/png": "[encoded data removed]",
      "text/plain": [
       "<Figure size 1224x1224 with 12 Axes>"
      ]
     },
     "metadata": {
      "needs_background": "light"
     },
     "output_type": "display_data"
    }
   ],
   "source": [
    "labels = 'neutral','positive', 'negative'\n",
    "explodeTuple = (0.1,0,0)\n",
    "newf.plot(legend=False, labels=labels,explode=explodeTuple,kind='pie',subplots=True, colors=['tomato', 'gold', 'skyblue'], figsize=(17,17),layout=(3,4), autopct='%1.1f%%')"
   ]
  },
  {
   "cell_type": "code",
   "execution_count": null,
   "metadata": {},
   "outputs": [],
   "source": [
    "\n"
   ]
  },
  {
   "cell_type": "code",
   "execution_count": null,
   "metadata": {},
   "outputs": [],
   "source": []
  }
 ],
 "metadata": {
  "kernelspec": {
   "display_name": "Python 3",
   "language": "python",
   "name": "python3"
  },
  "language_info": {
   "codemirror_mode": {
    "name": "ipython",
    "version": 3
   },
   "file_extension": ".py",
   "mimetype": "text/x-python",
   "name": "python",
   "nbconvert_exporter": "python",
   "pygments_lexer": "ipython3",
   "version": "3.8.3"
  }
 },
 "nbformat": 4,
 "nbformat_minor": 4
}
