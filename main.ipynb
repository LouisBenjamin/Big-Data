{
 "cells": [
  {
   "cell_type": "markdown",
   "metadata": {},
   "source": [
    "mcu data: https://www.kaggle.com/pdunton/marvel-cinematic-universe-dialogue?select=mcu_subset.csv\n"
   ]
  },
  {
   "cell_type": "markdown",
   "metadata": {},
   "source": [
    "dataset: https://www.kaggle.com/cosmos98/twitter-and-reddit-sentimental-analysis-dataset"
   ]
  },
  {
   "cell_type": "code",
   "execution_count": 158,
   "metadata": {},
   "outputs": [],
   "source": [
    "from pyspark.sql.types import *\n",
    "from pyspark.sql.functions import *\n",
    "from pyspark.ml.classification import LogisticRegression\n",
    "from pyspark.ml.feature import HashingTF, Tokenizer, StopWordsRemover, RegexTokenizer, PCA\n",
    "from pyspark.mllib.regression import LabeledPoint\n",
    "from IPython.display import Image\n",
    "from pyspark.sql import SparkSession\n",
    "import IPython\n",
    "from pyspark.mllib.evaluation import MulticlassMetrics\n",
    "from pyspark.ml.evaluation import MulticlassClassificationEvaluator"
   ]
  },
  {
   "cell_type": "markdown",
   "metadata": {},
   "source": [
    "# Collecting The Infinity Stones"
   ]
  },
  {
   "cell_type": "markdown",
   "metadata": {},
   "source": [
    "### AKA Cleaning the dataset"
   ]
  },
  {
   "cell_type": "markdown",
   "metadata": {},
   "source": [
    "![display image](https://media.giphy.com/media/3oxHQjRHcp4w9oi24M/giphy.gif)"
   ]
  },
  {
   "cell_type": "code",
   "execution_count": 102,
   "metadata": {},
   "outputs": [],
   "source": [
    "def init_spark():\n",
    "    spark = SparkSession \\\n",
    "        .builder \\\n",
    "        .appName(\"Python Spark SQL basic example\") \\\n",
    "        .config(\"spark.some.config.option\", \"some-value\") \\\n",
    "        .getOrCreate()\n",
    "    return spark"
   ]
  },
  {
   "cell_type": "code",
   "execution_count": 103,
   "metadata": {},
   "outputs": [],
   "source": [
    "spark = init_spark()\n",
    "#read_csv = spark.read.csv('data/tweets.csv', inferSchema=True, header=True)\n",
    "read_csv = spark.read.csv('data/Twitter_Data_utf8.csv', inferSchema=True, header=True)"
   ]
  },
  {
   "cell_type": "code",
   "execution_count": 104,
   "metadata": {},
   "outputs": [
    {
     "name": "stdout",
     "output_type": "stream",
     "text": [
      "+--------------------+-----+\n",
      "|          clean_text|label|\n",
      "+--------------------+-----+\n",
      "|one vote can make...|    0|\n",
      "|congress has alwa...|    2|\n",
      "|and here another ...|    1|\n",
      "|kya modi asia bhi...|    0|\n",
      "|yes vote for modi...|    0|\n",
      "|better than your ...|    1|\n",
      "|got one more reas...|    1|\n",
      "|           very sad |    2|\n",
      "|yes sir vote for ...|    0|\n",
      "|evry modi bjp sup...|    0|\n",
      "+--------------------+-----+\n",
      "only showing top 10 rows\n",
      "\n"
     ]
    }
   ],
   "source": [
    "#data = read_csv.select(\"SentimentText\", col(\"Sentiment\").cast(\"Int\").alias(\"label\"))\n",
    "data = read_csv.select(\"clean_text\", col(\"category\").cast(\"Int\").alias(\"label\")).dropna().dropDuplicates().replace(-1,2)\n",
    "data.show(10)"
   ]
  },
  {
   "cell_type": "code",
   "execution_count": null,
   "metadata": {},
   "outputs": [],
   "source": []
  },
  {
   "cell_type": "code",
   "execution_count": 105,
   "metadata": {},
   "outputs": [
    {
     "name": "stdout",
     "output_type": "stream",
     "text": [
      "Training data has 110313 rows.\n",
      "Testing data has 47295 rows.\n"
     ]
    }
   ],
   "source": [
    "split = data.randomSplit([0.7, 0.3])\n",
    "trainingData = split[0]\n",
    "testingData = split[1]\n",
    "print (\"Training data has\", split[0].count(), 'rows.')\n",
    "print (\"Testing data has\", split[1].count(), 'rows.')"
   ]
  },
  {
   "cell_type": "markdown",
   "metadata": {},
   "source": [
    "## Cleaning The Data (Tokenizing and Stop Word Removing)"
   ]
  },
  {
   "cell_type": "code",
   "execution_count": 106,
   "metadata": {},
   "outputs": [
    {
     "name": "stdout",
     "output_type": "stream",
     "text": [
      "+--------------------+-----+--------------------+--------------------+\n",
      "|          clean_text|label|              Tokens|         NoStopWords|\n",
      "+--------------------+-----+--------------------+--------------------+\n",
      "|118 work underway...|    2|[118, work, under...|[118, work, under...|\n",
      "|1947 lekar 2013 t...|    1|[1947, lekar, 201...|[1947, lekar, 201...|\n",
      "|2014 modiji start...|    0|[2014, modiji, st...|[2014, modiji, st...|\n",
      "|299 for one signe...|    0|[299, for, one, s...|[299, one, signed...|\n",
      "|5yrs antinatnl th...|    1|[5yrs, antinatnl,...|[5yrs, antinatnl,...|\n",
      "|                TRUE|    1|              [true]|              [true]|\n",
      "|aare bhai modi bh...|    1|[aare, bhai, modi...|[aare, bhai, modi...|\n",
      "|abey dhakkan bol ...|    0|[abey, dhakkan, b...|[abey, dhakkan, b...|\n",
      "|able grandson abl...|    1|[able, grandson, ...|[able, grandson, ...|\n",
      "|achievement the c...|    2|[achievement, the...|[achievement, cou...|\n",
      "+--------------------+-----+--------------------+--------------------+\n",
      "only showing top 10 rows\n",
      "\n",
      "+--------------------+-----+--------------------+--------------------+\n",
      "|          clean_text|label|              Tokens|         NoStopWords|\n",
      "+--------------------+-----+--------------------+--------------------+\n",
      "|1500 crores the p...|    0|[1500, crores, th...|[1500, crores, pu...|\n",
      "|abhinandan every ...|    0|[abhinandan, ever...|[abhinandan, ever...|\n",
      "|about jail after ...|    1|[about, jail, aft...|[jail, may, 2019,...|\n",
      "|absolutely nothin...|    2|[absolutely, noth...|[absolutely, noth...|\n",
      "|after hearing thi...|    1|[after, hearing, ...|[hearing, speech,...|\n",
      "|ahmed bhai badhu ...|    1|[ahmed, bhai, bad...|[ahmed, bhai, bad...|\n",
      "|all the dogs are ...|    2|[all, the, dogs, ...|[dogs, barking, m...|\n",
      "|already exists pr...|    0|[already, exists,...|[already, exists,...|\n",
      "|always speak agai...|    2|[always, speak, a...|[always, speak, g...|\n",
      "|amit shah starts ...|    1|[amit, shah, star...|[amit, shah, star...|\n",
      "+--------------------+-----+--------------------+--------------------+\n",
      "only showing top 10 rows\n",
      "\n"
     ]
    }
   ],
   "source": [
    "#inputCol = \"SentimentText\"\n",
    "inputCol = \"clean_text\"\n",
    "\n",
    "tokenizer = RegexTokenizer(pattern=r'(?:\\p{Punct}|\\s)+', inputCol=inputCol, outputCol=\"Tokens\")\n",
    "swr = StopWordsRemover(inputCol=tokenizer.getOutputCol(), outputCol=\"NoStopWords\")\n",
    "\n",
    "token_train = tokenizer.transform(trainingData)\n",
    "nosw_train = swr.transform(token_train)\n",
    "\n",
    "token_test = tokenizer.transform(testingData)\n",
    "nosw_test = swr.transform(token_test)\n",
    "\n",
    "nosw_train.show(truncate=True, n=10)\n",
    "nosw_test.show(truncate=True, n=10)"
   ]
  },
  {
   "cell_type": "markdown",
   "metadata": {},
   "source": [
    "## Hashing The Features using HashingTF"
   ]
  },
  {
   "cell_type": "code",
   "execution_count": 107,
   "metadata": {},
   "outputs": [
    {
     "name": "stdout",
     "output_type": "stream",
     "text": [
      "+-----+--------------------+--------------------+\n",
      "|label|              Tokens|            features|\n",
      "+-----+--------------------+--------------------+\n",
      "|    2|[118, work, under...|(262144,[1928,126...|\n",
      "|    1|[1947, lekar, 201...|(262144,[1900,978...|\n",
      "|    0|[2014, modiji, st...|(262144,[71,4167,...|\n",
      "|    0|[299, for, one, s...|(262144,[21823,98...|\n",
      "|    1|[5yrs, antinatnl,...|(262144,[333,9618...|\n",
      "+-----+--------------------+--------------------+\n",
      "only showing top 5 rows\n",
      "\n",
      "+-----+--------------------+--------------------+\n",
      "|Label|              Tokens|            features|\n",
      "+-----+--------------------+--------------------+\n",
      "|    0|[1500, crores, th...|(262144,[6993,104...|\n",
      "|    0|[abhinandan, ever...|(262144,[10723,37...|\n",
      "|    1|[about, jail, aft...|(262144,[40963,41...|\n",
      "|    2|[absolutely, noth...|(262144,[33555,36...|\n",
      "|    1|[after, hearing, ...|(262144,[4214,157...|\n",
      "+-----+--------------------+--------------------+\n",
      "only showing top 5 rows\n",
      "\n"
     ]
    }
   ],
   "source": [
    "hashTF = HashingTF(inputCol=swr.getOutputCol(), outputCol=\"features\")\n",
    "hash_train = hashTF.transform(nosw_train).select(\n",
    "    'label', 'Tokens', 'features')\n",
    "\n",
    "hash_test = hashTF.transform(nosw_test).select(\n",
    "    'Label', 'Tokens', 'features')\n",
    "hash_train.show(n=5)\n",
    "hash_test.show(n=5)"
   ]
  },
  {
   "cell_type": "markdown",
   "metadata": {},
   "source": [
    "# Training "
   ]
  },
  {
   "cell_type": "code",
   "execution_count": 108,
   "metadata": {},
   "outputs": [],
   "source": [
    "mlor = (LogisticRegression()\n",
    "       .setFamily(\"multinomial\") )"
   ]
  },
  {
   "cell_type": "code",
   "execution_count": 109,
   "metadata": {},
   "outputs": [],
   "source": [
    "model= mlor.fit(hash_train)"
   ]
  },
  {
   "cell_type": "code",
   "execution_count": 110,
   "metadata": {
    "scrolled": true
   },
   "outputs": [
    {
     "name": "stdout",
     "output_type": "stream",
     "text": [
      "+-----+--------------------+--------------------+--------------------+--------------------+----------+\n",
      "|Label|              Tokens|            features|       rawPrediction|         probability|prediction|\n",
      "+-----+--------------------+--------------------+--------------------+--------------------+----------+\n",
      "|    0|[1500, crores, th...|(262144,[6993,104...|[47.8878290069156...|[1.0,1.6472490886...|       0.0|\n",
      "|    0|[abhinandan, ever...|(262144,[10723,37...|[3.14309236377830...|[0.91588242739686...|       0.0|\n",
      "|    1|[about, jail, aft...|(262144,[40963,41...|[-17.169996840690...|[2.62690279925324...|       1.0|\n",
      "|    2|[absolutely, noth...|(262144,[33555,36...|[-14.739315007170...|[3.20872784885822...|       2.0|\n",
      "|    1|[after, hearing, ...|(262144,[4214,157...|[-43.210840407277...|[9.31566988898557...|       1.0|\n",
      "|    1|[ahmed, bhai, bad...|(262144,[9398,137...|[21.0044497071233...|[0.77746209682796...|       0.0|\n",
      "|    2|[all, the, dogs, ...|(262144,[40963,54...|[9.87950536038719...|[0.99998722729816...|       0.0|\n",
      "|    0|[already, exists,...|(262144,[2306,409...|[36.7074830187674...|[0.99999999999998...|       0.0|\n",
      "|    2|[always, speak, a...|(262144,[16620,37...|[-51.530773494989...|[3.35313757516223...|       1.0|\n",
      "|    1|[amit, shah, star...|(262144,[27556,28...|[-21.832986176207...|[2.28666427268527...|       1.0|\n",
      "|    0|[and, btw, not, a...|(262144,[17109,40...|[0.47542631668078...|[0.24273205026538...|       2.0|\n",
      "|    1|[and, give, shelt...|(262144,[107367,1...|[-7.5047039431428...|[1.77423834120364...|       1.0|\n",
      "|    1|[and, would, rath...|(262144,[158661,2...|[-4.2446287448950...|[2.89937173709484...|       1.0|\n",
      "|    1|[another, victory...|(262144,[40963,41...|[36.2174016492338...|[1.0,2.8693788172...|       0.0|\n",
      "|    1|[answer, why, you...|(262144,[21166,21...|[10.7814661100143...|[0.99984928285155...|       0.0|\n",
      "|    0|[anyone, who, thi...|(262144,[6801,103...|[3.20995825070610...|[0.98382973679753...|       0.0|\n",
      "|    1|[anything, good, ...|(262144,[34343,40...|[-5.8310426522616...|[1.95632424000525...|       1.0|\n",
      "|    0|[artworks, owned,...|(262144,[19061,21...|[23.4611382296491...|[0.99999999999999...|       0.0|\n",
      "|    2|[ask, how, many, ...|(262144,[1696,621...|[-12.381145057073...|[6.62482117084575...|       2.0|\n",
      "|    1|[balakot, will, n...|(262144,[3657,800...|[-3.7897582660474...|[1.58930069761654...|       1.0|\n",
      "|    1|[bcs, its, bjp, w...|(262144,[19061,21...|[-31.374406577605...|[1.82787065333982...|       1.0|\n",
      "|    0|[because, scienti...|(262144,[21823,27...|[22.1834401315490...|[0.99999999998597...|       0.0|\n",
      "|    2|[beta, bail, jija...|(262144,[31064,40...|[-7.9973036892876...|[2.41621621566288...|       2.0|\n",
      "|    0|[big, news, big, ...|(262144,[49185,58...|[4.33535440035531...|[0.99633009883707...|       0.0|\n",
      "|    1|[bjp, had, got, 1...|(262144,[2564,603...|[-2.9972924771793...|[4.88229748086705...|       2.0|\n",
      "|    2|[brain, and, mone...|(262144,[2306,392...|[-9.7824476538639...|[3.76414235739089...|       1.0|\n",
      "|    0|[breathless, song...|(262144,[17734,40...|[-5.4701942676236...|[5.91250578666075...|       1.0|\n",
      "|    0|[bros, grandson, ...|(262144,[40944,40...|[15.8610641909525...|[0.99999999879794...|       0.0|\n",
      "|    0|[but, will, vote,...|(262144,[40963,49...|[2.54084681627666...|[0.94742204538389...|       0.0|\n",
      "|    1|[called, recogtn,...|(262144,[18176,23...|[25.4732237504830...|[0.20361164263800...|       1.0|\n",
      "|    0|[check, out, the,...|(262144,[39396,40...|[-15.900184755319...|[3.97884680428349...|       1.0|\n",
      "|    0|[chor, party, cho...|(262144,[29837,40...|[-6.8855481991157...|[8.86157395951076...|       1.0|\n",
      "|    0|[chowkidaar, babu...|(262144,[9006,126...|[5.91033671883054...|[1.37507421321900...|       1.0|\n",
      "|    1|[chowkidarsatish,...|(262144,[40963,74...|[20.4584582052823...|[0.99999999995695...|       0.0|\n",
      "|    0|[congress, and, i...|(262144,[6801,409...|[-6.1997467021647...|[3.14465728585140...|       1.0|\n",
      "|    2|[congress, was, 6...|(262144,[16474,40...|[3.82880023453631...|[0.93539898724125...|       0.0|\n",
      "|    1|[consulted, many,...|(262144,[8796,144...|[15.4831833935121...|[0.99999997855744...|       0.0|\n",
      "|    0|[country, needs, ...|(262144,[22931,24...|[18.0900118807164...|[0.99999999999218...|       0.0|\n",
      "|    2|[days, since, the...|(262144,[12519,12...|[-10.330713806207...|[2.65675041114467...|       2.0|\n",
      "|    1|[dear, madam, app...|(262144,[21823,34...|[-13.356440491387...|[2.66074712621237...|       2.0|\n",
      "|    1|[dear, modi, ther...|(262144,[29452,40...|[-23.172526012799...|[2.89688718794522...|       2.0|\n",
      "|    1|[dear, nawabs, le...|(262144,[30911,33...|[-25.330856148240...|[1.39275410942248...|       1.0|\n",
      "|    2|[dear, sir, pleas...|(262144,[10723,35...|[12.2309182144429...|[0.99999742853562...|       0.0|\n",
      "|    0|[dedicated, party...|(262144,[40963,44...|[7.74575276241950...|[0.99980049520212...|       0.0|\n",
      "|    0|[department, spac...|(262144,[37041,45...|[10.1786565816489...|[0.99983940349419...|       0.0|\n",
      "|    0|[dont, trust, you...|(262144,[13130,40...|[2.57502544226716...|[0.95585844343549...|       0.0|\n",
      "|    0|[each, time, some...|(262144,[2638,160...|[8.14037703627141...|[0.99838158524083...|       0.0|\n",
      "|    2|[earn, that, much...|(262144,[12168,22...|[4.29831126015323...|[0.99641734166490...|       0.0|\n",
      "|    0|[end, goondagardi...|(262144,[87595,13...|[4.40564750649927...|[9.82645568454936...|       1.0|\n",
      "|    0|[entire, campaign...|(262144,[3928,409...|[-6.3774375742651...|[3.35865468575376...|       2.0|\n",
      "|    0|[eros, nows, web,...|(262144,[19263,78...|[3.42670847143823...|[6.39502877463540...|       2.0|\n",
      "|    1|[europe, uber, ch...|(262144,[40963,10...|[-1.3056539998186...|[3.01314032698731...|       1.0|\n",
      "|    2|[even, pak, airfo...|(262144,[39396,40...|[-4.3668699154428...|[2.05603631177968...|       2.0|\n",
      "|    0|[evry, modi, bjp,...|(262144,[6330,334...|[33.3317424484360...|[1.0,3.4438739712...|       0.0|\n",
      "|    1|         [excellent]|(262144,[78745],[...|[-11.085369457938...|[2.29321145518912...|       1.0|\n",
      "|    2|[experimentprojec...|(262144,[8538,371...|[-12.073707986509...|[6.33055637403363...|       2.0|\n",
      "|    2|[facing, death, s...|(262144,[33123,40...|[2.01105402908683...|[2.34398178410782...|       2.0|\n",
      "|    1|[foreign, policy,...|(262144,[40963,43...|[-11.173084965445...|[1.96676183732646...|       1.0|\n",
      "|    1|[fugitive, diamon...|(262144,[6590,307...|[-10.012614385727...|[5.67584558782881...|       1.0|\n",
      "|    1|[funny, how, some...|(262144,[40963,45...|[-7.7436682683569...|[2.95113029441336...|       1.0|\n",
      "|    1|[ghunghroo, seth,...|(262144,[23209,79...|[-18.657571389476...|[1.69639081159313...|       1.0|\n",
      "|    0|[given, choice, w...|(262144,[40963,59...|[12.5451521670511...|[0.98503142592106...|       0.0|\n",
      "|    2|[god, you, are, h...|(262144,[10077,14...|[-25.720975038602...|[1.06039620934645...|       1.0|\n",
      "|    1|[got, one, more, ...|(262144,[21823,40...|[-3.1370690436865...|[5.72103261781445...|       1.0|\n",
      "|    1|[great, job, done...|(262144,[11018,40...|[-20.418937144108...|[1.58356238607631...|       1.0|\n",
      "|    0|[had, this, been,...|(262144,[26144,37...|[7.83788287419496...|[0.99990693430657...|       0.0|\n",
      "|    0|[had, told, the, ...|(262144,[1546,241...|[6.86850299941,-2...|[9.71578854038522...|       2.0|\n",
      "|    1|[heartly, welcome...|(262144,[20158,13...|[7.48902883627388...|[0.99973467609647...|       0.0|\n",
      "|    0|[hes, like, modi,...|(262144,[40963,54...|[-4.3293539907051...|[6.44023795280426...|       1.0|\n",
      "|    0|[how, did, you, f...|(262144,[19684,20...|[17.7978900775409...|[0.99999999999461...|       0.0|\n",
      "|    1|               [how]|      (262144,[],[])|[1.20843611296996...|[0.71065744407931...|       0.0|\n",
      "|    1|[india, has, nucl...|(262144,[8494,174...|[-12.569596485619...|[2.24013208970000...|       1.0|\n",
      "|    2|[india, populatio...|(262144,[21349,40...|[9.67730256209243...|[1.11091925712135...|       1.0|\n",
      "|    0|[indian, prime, m...|(262144,[10723,37...|[1.73309810208282...|[0.84782369297837...|       0.0|\n",
      "|    0|[indian, scientis...|(262144,[6498,141...|[-4.2009847943837...|[9.09264762521849...|       2.0|\n",
      "|    1|[india’, youth, h...|(262144,[19153,40...|[-11.791024035771...|[6.53697424157384...|       1.0|\n",
      "|    1|[its, cartel, rul...|(262144,[30789,91...|[-1.7402358286151...|[0.00244642938288...|       2.0|\n",
      "|    2|[its, getting, cl...|(262144,[329,2240...|[10.3179716146525...|[0.99999936590587...|       0.0|\n",
      "|    0|[its, like, modis...|(262144,[4075,126...|[16.5729569295119...|[0.99999998315958...|       0.0|\n",
      "|    1|[its, wide, reson...|(262144,[40963,60...|[14.9400625371033...|[0.99999997056598...|       0.0|\n",
      "|    0|[katua, bhaiupa, ...|(262144,[2570,149...|[17.3274628761209...|[0.99999997378481...|       0.0|\n",
      "|    2|[know, past, all,...|(262144,[21823,34...|[-7.8946664505627...|[1.57109545025677...|       2.0|\n",
      "|    0|[know, ’, slim, b...|(262144,[39498,40...|[12.1404326700418...|[0.99999082140953...|       0.0|\n",
      "|    1|[lalu, jail, not,...|(262144,[17893,19...|[-25.576941707039...|[4.64988727441011...|       2.0|\n",
      "|    0|[lauralehsun, def...|(262144,[40963,16...|[11.0748795330361...|[0.99999986842139...|       0.0|\n",
      "|    1|[lets, also, ques...|(262144,[10345,15...|[-7.0504586151609...|[1.29507625631633...|       1.0|\n",
      "|    1|[life, ascetic, a...|(262144,[33532,36...|[-33.906441247390...|[2.49632989984522...|       1.0|\n",
      "|    1|[lok, sabha, elec...|(262144,[36769,40...|[-0.7368002976882...|[4.12885849627785...|       1.0|\n",
      "|    1|[looking, forward...|(262144,[8538,409...|[2.28826519380907...|[0.88499089721477...|       0.0|\n",
      "|    2|[madhawan, just, ...|(262144,[1928,119...|[5.10860676456347...|[0.95346148033477...|       0.0|\n",
      "|    1|[main, cause, pov...|(262144,[9781,608...|[-4.0658264600517...|[5.94006490597829...|       1.0|\n",
      "|    1|[many, many, cong...|(262144,[34343,40...|[-15.556667426936...|[1.91810725079156...|       1.0|\n",
      "|    2|[meagre, funds, a...|(262144,[31358,32...|[-16.094307724124...|[9.24811094990588...|       1.0|\n",
      "|    2|[mission, shakti,...|(262144,[39396,72...|[-5.3770147361378...|[1.18196773361567...|       1.0|\n",
      "|    0|[modi, address, r...|(262144,[5078,293...|[0.97585612664539...|[0.08871113071751...|       1.0|\n",
      "|    2|[modi, and, drswa...|(262144,[40963,42...|[-11.191277457898...|[3.62902366026583...|       2.0|\n",
      "|    0|[modi, brought, b...|(262144,[21823,40...|[48.9251101107544...|[1.0,1.3900488878...|       0.0|\n",
      "|    1|[modi, excellent,...|(262144,[40963,45...|[14.9217708718894...|[0.02597991669428...|       1.0|\n",
      "|    0|[modi, found, his...|(262144,[40963,87...|[3.87814345479323...|[0.99164146853591...|       0.0|\n",
      "|    1|[modi, gave, new,...|(262144,[10345,40...|[-69.950636045399...|[9.42424591430275...|       1.0|\n",
      "+-----+--------------------+--------------------+--------------------+--------------------+----------+\n",
      "only showing top 100 rows\n",
      "\n"
     ]
    }
   ],
   "source": [
    "prediction = model.transform(hash_test)\n",
    "prediction.show(100)"
   ]
  },
  {
   "cell_type": "code",
   "execution_count": null,
   "metadata": {},
   "outputs": [],
   "source": []
  },
  {
   "cell_type": "markdown",
   "metadata": {},
   "source": [
    "# Accuracy model"
   ]
  },
  {
   "cell_type": "code",
   "execution_count": 111,
   "metadata": {},
   "outputs": [
    {
     "name": "stdout",
     "output_type": "stream",
     "text": [
      "+--------------------+----------+-----+\n",
      "|              Tokens|prediction|Label|\n",
      "+--------------------+----------+-----+\n",
      "|[1500, crores, th...|       0.0|    0|\n",
      "|[abhinandan, ever...|       0.0|    0|\n",
      "|[about, jail, aft...|       1.0|    1|\n",
      "|[absolutely, noth...|       2.0|    2|\n",
      "|[after, hearing, ...|       1.0|    1|\n",
      "|[ahmed, bhai, bad...|       0.0|    1|\n",
      "|[all, the, dogs, ...|       0.0|    2|\n",
      "|[already, exists,...|       0.0|    0|\n",
      "|[always, speak, a...|       1.0|    2|\n",
      "|[amit, shah, star...|       1.0|    1|\n",
      "|[and, btw, not, a...|       2.0|    0|\n",
      "|[and, give, shelt...|       1.0|    1|\n",
      "|[and, would, rath...|       1.0|    1|\n",
      "|[another, victory...|       0.0|    1|\n",
      "|[answer, why, you...|       0.0|    1|\n",
      "|[anyone, who, thi...|       0.0|    0|\n",
      "|[anything, good, ...|       1.0|    1|\n",
      "|[artworks, owned,...|       0.0|    0|\n",
      "|[ask, how, many, ...|       2.0|    2|\n",
      "|[balakot, will, n...|       1.0|    1|\n",
      "|[bcs, its, bjp, w...|       1.0|    1|\n",
      "|[because, scienti...|       0.0|    0|\n",
      "|[beta, bail, jija...|       2.0|    2|\n",
      "|[big, news, big, ...|       0.0|    0|\n",
      "|[bjp, had, got, 1...|       2.0|    1|\n",
      "|[brain, and, mone...|       1.0|    2|\n",
      "|[breathless, song...|       1.0|    0|\n",
      "|[bros, grandson, ...|       0.0|    0|\n",
      "|[but, will, vote,...|       0.0|    0|\n",
      "|[called, recogtn,...|       1.0|    1|\n",
      "|[check, out, the,...|       1.0|    0|\n",
      "|[chor, party, cho...|       1.0|    0|\n",
      "|[chowkidaar, babu...|       1.0|    0|\n",
      "|[chowkidarsatish,...|       0.0|    1|\n",
      "|[congress, and, i...|       1.0|    0|\n",
      "|[congress, was, 6...|       0.0|    2|\n",
      "|[consulted, many,...|       0.0|    1|\n",
      "|[country, needs, ...|       0.0|    0|\n",
      "|[days, since, the...|       2.0|    2|\n",
      "|[dear, madam, app...|       2.0|    1|\n",
      "|[dear, modi, ther...|       2.0|    1|\n",
      "|[dear, nawabs, le...|       1.0|    1|\n",
      "|[dear, sir, pleas...|       0.0|    2|\n",
      "|[dedicated, party...|       0.0|    0|\n",
      "|[department, spac...|       0.0|    0|\n",
      "|[dont, trust, you...|       0.0|    0|\n",
      "|[each, time, some...|       0.0|    0|\n",
      "|[earn, that, much...|       0.0|    2|\n",
      "|[end, goondagardi...|       1.0|    0|\n",
      "|[entire, campaign...|       2.0|    0|\n",
      "|[eros, nows, web,...|       2.0|    0|\n",
      "|[europe, uber, ch...|       1.0|    1|\n",
      "|[even, pak, airfo...|       2.0|    2|\n",
      "|[evry, modi, bjp,...|       0.0|    0|\n",
      "|         [excellent]|       1.0|    1|\n",
      "|[experimentprojec...|       2.0|    2|\n",
      "|[facing, death, s...|       2.0|    2|\n",
      "|[foreign, policy,...|       1.0|    1|\n",
      "|[fugitive, diamon...|       1.0|    1|\n",
      "|[funny, how, some...|       1.0|    1|\n",
      "|[ghunghroo, seth,...|       1.0|    1|\n",
      "|[given, choice, w...|       0.0|    0|\n",
      "|[god, you, are, h...|       1.0|    2|\n",
      "|[got, one, more, ...|       1.0|    1|\n",
      "|[great, job, done...|       1.0|    1|\n",
      "|[had, this, been,...|       0.0|    0|\n",
      "|[had, told, the, ...|       2.0|    0|\n",
      "|[heartly, welcome...|       0.0|    1|\n",
      "|[hes, like, modi,...|       1.0|    0|\n",
      "|[how, did, you, f...|       0.0|    0|\n",
      "|               [how]|       0.0|    1|\n",
      "|[india, has, nucl...|       1.0|    1|\n",
      "|[india, populatio...|       1.0|    2|\n",
      "|[indian, prime, m...|       0.0|    0|\n",
      "|[indian, scientis...|       2.0|    0|\n",
      "|[india’, youth, h...|       1.0|    1|\n",
      "|[its, cartel, rul...|       2.0|    1|\n",
      "|[its, getting, cl...|       0.0|    2|\n",
      "|[its, like, modis...|       0.0|    0|\n",
      "|[its, wide, reson...|       0.0|    1|\n",
      "|[katua, bhaiupa, ...|       0.0|    0|\n",
      "|[know, past, all,...|       2.0|    2|\n",
      "|[know, ’, slim, b...|       0.0|    0|\n",
      "|[lalu, jail, not,...|       2.0|    1|\n",
      "|[lauralehsun, def...|       0.0|    0|\n",
      "|[lets, also, ques...|       1.0|    1|\n",
      "|[life, ascetic, a...|       1.0|    1|\n",
      "|[lok, sabha, elec...|       1.0|    1|\n",
      "|[looking, forward...|       0.0|    1|\n",
      "|[madhawan, just, ...|       0.0|    2|\n",
      "|[main, cause, pov...|       1.0|    1|\n",
      "|[many, many, cong...|       1.0|    1|\n",
      "|[meagre, funds, a...|       1.0|    2|\n",
      "|[mission, shakti,...|       1.0|    2|\n",
      "|[modi, address, r...|       1.0|    0|\n",
      "|[modi, and, drswa...|       2.0|    2|\n",
      "|[modi, brought, b...|       0.0|    0|\n",
      "|[modi, excellent,...|       1.0|    1|\n",
      "|[modi, found, his...|       0.0|    0|\n",
      "|[modi, gave, new,...|       1.0|    1|\n",
      "+--------------------+----------+-----+\n",
      "only showing top 100 rows\n",
      "\n"
     ]
    }
   ],
   "source": [
    "predictionFinal = prediction.select(\n",
    "    \"Tokens\", \"prediction\", \"Label\")\n",
    "predictionFinal.show(n=100)"
   ]
  },
  {
   "cell_type": "code",
   "execution_count": 112,
   "metadata": {},
   "outputs": [
    {
     "name": "stdout",
     "output_type": "stream",
     "text": [
      "Accuracy: 0.6986362194735173\n"
     ]
    }
   ],
   "source": [
    "match = predictionFinal.filter(predictionFinal['prediction'] == predictionFinal['label']).count()\n",
    "total = predictionFinal.count()\n",
    "print(\"Accuracy:\", match/total)"
   ]
  },
  {
   "cell_type": "code",
   "execution_count": 159,
   "metadata": {},
   "outputs": [
    {
     "name": "stdout",
     "output_type": "stream",
     "text": [
      "Summary Stats\n",
      "Precision = 0.681445262593316\n",
      "Recall = 0.678778401251035\n",
      "F1 Score = 0.679442043936087\n"
     ]
    }
   ],
   "source": [
    "evaluatorMulti = MulticlassClassificationEvaluator(labelCol=\"Label\", predictionCol=\"prediction\")\n",
    "\n",
    "# get metrics\n",
    "f1 = evaluatorMulti.evaluate(temp, {evaluatorMulti.metricName: \"f1\"})\n",
    "weightedPrecision = evaluatorMulti.evaluate(temp, {evaluatorMulti.metricName: \"weightedPrecision\"})\n",
    "weightedRecall = evaluatorMulti.evaluate(temp, {evaluatorMulti.metricName: \"weightedRecall\"})\n",
    "\n",
    "print(\"Summary Stats\")\n",
    "print(\"Precision = %s\" % weightedPrecision)\n",
    "print(\"Recall = %s\" % weightedRecall)\n",
    "print(\"F1 Score = %s\" % f1)"
   ]
  },
  {
   "cell_type": "markdown",
   "metadata": {},
   "source": [
    "# Avengers Assemble"
   ]
  },
  {
   "cell_type": "markdown",
   "metadata": {},
   "source": [
    "![display image](https://media.giphy.com/media/j2pWZpr5RlpCodOB0d/giphy.gif)"
   ]
  },
  {
   "cell_type": "code",
   "execution_count": 113,
   "metadata": {},
   "outputs": [
    {
     "name": "stdout",
     "output_type": "stream",
     "text": [
      "Lines of Dialogue: 6509\n"
     ]
    }
   ],
   "source": [
    "mcu_csv = spark.read.csv('data/mcu_subset.csv', inferSchema=True, header=True)\n",
    "print(\"Lines of Dialogue:\", mcu_csv.count())"
   ]
  },
  {
   "cell_type": "code",
   "execution_count": 114,
   "metadata": {},
   "outputs": [
    {
     "name": "stdout",
     "output_type": "stream",
     "text": [
      "+------------+--------------------+\n",
      "|   character|                line|\n",
      "+------------+--------------------+\n",
      "|  TONY STARK|Oh, I get it.  Yo...|\n",
      "|  TONY STARK|Oh.  I see.  So i...|\n",
      "|  TONY STARK|Good God, you’re ...|\n",
      "|  TONY STARK|             Please.|\n",
      "|  TONY STARK|Excellent questio...|\n",
      "|  TONY STARK|      Join the club.|\n",
      "|  TONY STARK|Are you aware tha...|\n",
      "|JAMES RHODES|GET DOWN, TONY.  ...|\n",
      "|JAMES RHODES|As Program Manage...|\n",
      "|  TONY STARK|...you think we’r...|\n",
      "+------------+--------------------+\n",
      "only showing top 10 rows\n",
      "\n"
     ]
    }
   ],
   "source": [
    "data = mcu_csv.select(\"character\",\"line\")\n",
    "data.show(n=10)"
   ]
  },
  {
   "cell_type": "code",
   "execution_count": 121,
   "metadata": {},
   "outputs": [
    {
     "name": "stdout",
     "output_type": "stream",
     "text": [
      "+------------+--------------------+--------------------+--------------------+\n",
      "|   character|                line|            new_line|                 new|\n",
      "+------------+--------------------+--------------------+--------------------+\n",
      "|  TONY STARK|Oh, I get it.  Yo...|[oh,, i, get, it....|[oh,, get, it., ,...|\n",
      "|  TONY STARK|Oh.  I see.  So i...|[oh., , i, see., ...|[oh., , see., , i...|\n",
      "|  TONY STARK|Good God, you’re ...|[good, god,, you’...|[good, god,, you’...|\n",
      "|  TONY STARK|             Please.|           [please.]|           [please.]|\n",
      "|  TONY STARK|Excellent questio...|[excellent, quest...|[excellent, quest...|\n",
      "|  TONY STARK|      Join the club.|  [join, the, club.]|       [join, club.]|\n",
      "|  TONY STARK|Are you aware tha...|[are, you, aware,...|[aware, native, a...|\n",
      "|JAMES RHODES|GET DOWN, TONY.  ...|[get, down,, tony...|[get, down,, tony...|\n",
      "|JAMES RHODES|As Program Manage...|[as, program, man...|[program, manager...|\n",
      "|  TONY STARK|...you think we’r...|[...you, think, w...|[...you, think, w...|\n",
      "+------------+--------------------+--------------------+--------------------+\n",
      "only showing top 10 rows\n",
      "\n"
     ]
    }
   ],
   "source": [
    "t = Tokenizer(inputCol=\"line\", outputCol=\"new_line\")\n",
    "swr_MCU = StopWordsRemover(inputCol=t.getOutputCol(), \n",
    "                       outputCol=\"new\")\n",
    "token_MCU = t.transform(data)\n",
    "nosw_MCU = swr_MCU.transform(token_MCU)\n",
    "\n",
    "nosw_MCU.show(n=10)"
   ]
  },
  {
   "cell_type": "code",
   "execution_count": 116,
   "metadata": {},
   "outputs": [
    {
     "name": "stdout",
     "output_type": "stream",
     "text": [
      "+----------+--------------------+--------------------+\n",
      "| character|            new_line|            features|\n",
      "+----------+--------------------+--------------------+\n",
      "|TONY STARK|[oh,, i, get, it....|(262144,[44954,84...|\n",
      "|TONY STARK|[oh., , i, see., ...|(262144,[8938,109...|\n",
      "|TONY STARK|[good, god,, you’...|(262144,[6808,353...|\n",
      "+----------+--------------------+--------------------+\n",
      "only showing top 3 rows\n",
      "\n"
     ]
    }
   ],
   "source": [
    "hashTF = HashingTF(inputCol=swr_MCU.getOutputCol(), outputCol=\"features\")\n",
    "hash_MCU = hashTF.transform(nosw_MCU).select('character','new_line', 'features')\n",
    "hash_MCU.show(n=3)"
   ]
  },
  {
   "cell_type": "code",
   "execution_count": 122,
   "metadata": {},
   "outputs": [
    {
     "name": "stdout",
     "output_type": "stream",
     "text": [
      "+------------+--------------------+----------+\n",
      "|   character|            new_line|prediction|\n",
      "+------------+--------------------+----------+\n",
      "|  TONY STARK|[oh,, i, get, it....|       0.0|\n",
      "|  TONY STARK|[oh., , i, see., ...|       2.0|\n",
      "|  TONY STARK|[good, god,, you’...|       0.0|\n",
      "|  TONY STARK|           [please.]|       1.0|\n",
      "|  TONY STARK|[excellent, quest...|       1.0|\n",
      "|  TONY STARK|  [join, the, club.]|       1.0|\n",
      "|  TONY STARK|[are, you, aware,...|       1.0|\n",
      "|JAMES RHODES|[get, down,, tony...|       2.0|\n",
      "|JAMES RHODES|[as, program, man...|       2.0|\n",
      "|  TONY STARK|[...you, think, w...|       1.0|\n",
      "|  TONY STARK|[hold, on, a, sec...|       1.0|\n",
      "|JAMES RHODES|[yeah., , they, s...|       0.0|\n",
      "|  TONY STARK|[okay,, let’s, do...|       0.0|\n",
      "|JAMES RHODES|[a, lot, of, peop...|       1.0|\n",
      "|  TONY STARK|[it, belongs, to,...|       1.0|\n",
      "|JAMES RHODES|[what’s, wrong, w...|       0.0|\n",
      "|  TONY STARK|[hold, that, thou...|       0.0|\n",
      "|JAMES RHODES|[...you, just, bl...|       0.0|\n",
      "|  TONY STARK|[yeah., , don’t, ...|       1.0|\n",
      "|JAMES RHODES|[everything’s, fu...|       1.0|\n",
      "|  TONY STARK|[no., , you’re, n...|       0.0|\n",
      "|JAMES RHODES|[we’ve, got, a, h...|       0.0|\n",
      "|  TONY STARK|[one, more, stop....|       1.0|\n",
      "|JAMES RHODES|[this, is, no, jo...|       0.0|\n",
      "|  TONY STARK|[this, system, ha...|       1.0|\n",
      "|PEPPER POTTS|[tony,, it’s, the...|       2.0|\n",
      "|  TONY STARK|[...jim,, how’re,...|       1.0|\n",
      "|PEPPER POTTS|[you’re, leaving,...|       0.0|\n",
      "|  TONY STARK|  [okay, --, shoot.]|       1.0|\n",
      "|PEPPER POTTS|[the, board, meet...|       0.0|\n",
      "|  TONY STARK|[can, i, ask, a, ...|       0.0|\n",
      "|  TONY STARK|[ridiculous., , i...|       0.0|\n",
      "|  TONY STARK|[that’s, not, bad...|       2.0|\n",
      "|  TONY STARK|[well, miss, brow...|       0.0|\n",
      "|  TONY STARK|[every, night, in...|       2.0|\n",
      "|  TONY STARK|[here’s, serious:...|       1.0|\n",
      "|  TONY STARK|[my, father, help...|       0.0|\n",
      "|  TONY STARK|[tell, me:, do, y...|       0.0|\n",
      "|PEPPER POTTS|[don’t, worry,, t...|       2.0|\n",
      "|PEPPER POTTS|[cab’s, waiting, ...|       0.0|\n",
      "|PEPPER POTTS|[should, i, tell,...|       1.0|\n",
      "|  TONY STARK|[five?, , i’ll, n...|       0.0|\n",
      "|PEPPER POTTS|[focus., , i, nee...|       0.0|\n",
      "|  TONY STARK|[you’re, rushing,...|       0.0|\n",
      "|PEPPER POTTS|[the, mit, commen...|       1.0|\n",
      "|  TONY STARK|[maybe., , tell, ...|       1.0|\n",
      "|PEPPER POTTS|[i’ll, tell, them...|       0.0|\n",
      "|  TONY STARK|[what’s, it, look...|       0.0|\n",
      "|PEPPER POTTS|[it’s, a, minor, ...|       2.0|\n",
      "|  TONY STARK|          [buy, it.]|       1.0|\n",
      "|PEPPER POTTS|[he, left, an, ho...|       0.0|\n",
      "|  TONY STARK|[you, have, plans...|       0.0|\n",
      "|PEPPER POTTS|[i’m, allowed, to...|       2.0|\n",
      "|  TONY STARK|[it’s, your, birt...|       0.0|\n",
      "|PEPPER POTTS|[yep., , funny,, ...|       0.0|\n",
      "|  TONY STARK|[well,, get, your...|       0.0|\n",
      "|PEPPER POTTS|     [already, did.]|       0.0|\n",
      "|  TONY STARK|           [and...?]|       0.0|\n",
      "|PEPPER POTTS|[it, was, very, t...|       0.0|\n",
      "|  TONY STARK|[you’re, welcome,...|       0.0|\n",
      "|JAMES RHODES|[i, was, standing...|       0.0|\n",
      "|  TONY STARK|[i, had, car, tro...|       0.0|\n",
      "|  TONY STARK|[two, fingers, of...|       1.0|\n",
      "|JAMES RHODES|   [we’re, working.]|       0.0|\n",
      "|  TONY STARK|[you, should, hav...|       1.0|\n",
      "|JAMES RHODES|[it’s, two, in, t...|       0.0|\n",
      "|  TONY STARK|[it’s, two, in, t...|       1.0|\n",
      "|JAMES RHODES|[don’t, start, wi...|       0.0|\n",
      "|  TONY STARK|[jeez,, we’re, no...|       1.0|\n",
      "|JAMES RHODES|[you, don’t, get,...|       2.0|\n",
      "|  TONY STARK|[all, i, said, wa...|       0.0|\n",
      "|JAMES RHODES|[‘straight-jacket...|       0.0|\n",
      "|  TONY STARK|[see, that, one?,...|       2.0|\n",
      "|JAMES RHODES|[you’re, not, lis...|       0.0|\n",
      "|  TONY STARK|[i, am, listening...|       2.0|\n",
      "|JAMES RHODES|[something’s...se...|       2.0|\n",
      "|  TONY STARK|[drink, 2:, a, hi...|       1.0|\n",
      "|JAMES RHODES|[you, know,, hell...|       2.0|\n",
      "|  TONY STARK|[go, hang, with, ...|       0.0|\n",
      "|JAMES RHODES|[i, will., that’s...|       2.0|\n",
      "|  TONY STARK|[you, could, tell...|       1.0|\n",
      "|  TONY STARK|[i, think, we, go...|       1.0|\n",
      "|  TONY STARK|[hey,, why, aren’...|       0.0|\n",
      "|  TONY STARK|[all, right,, who...|       1.0|\n",
      "|  TONY STARK|[sorry,, rhodey,,...|       1.0|\n",
      "|  TONY STARK|[what, have, you,...|       0.0|\n",
      "|  TONY STARK|[i, don’t, rememb...|       0.0|\n",
      "|  TONY STARK|[where, are, we, ...|       0.0|\n",
      "|  TONY STARK|     [...i, refuse.]|       1.0|\n",
      "|  TONY STARK|[how, did, they, ...|       0.0|\n",
      "|  TONY STARK|     [no, he, won’t]|       0.0|\n",
      "|JAMES RHODES|[something’s, not...|       1.0|\n",
      "|JAMES RHODES|[sir,, i’m, telli...|       2.0|\n",
      "|JAMES RHODES|[with, your, perm...|       0.0|\n",
      "|JAMES RHODES|[tony, stark, is,...|       2.0|\n",
      "|  TONY STARK|[why, should, i, ...|       2.0|\n",
      "|  TONY STARK|[okay,, here’s, w...|       0.0|\n",
      "|  TONY STARK|[...this, area, f...|       1.0|\n",
      "|  TONY STARK|[finally,, i, wan...|       1.0|\n",
      "|  TONY STARK|[must, have, ever...|       1.0|\n",
      "|  TONY STARK|[i, know,, they’r...|       0.0|\n",
      "|  TONY STARK|[heat, the, palla...|       1.0|\n",
      "|  TONY STARK|[the, palladium, ...|       0.0|\n",
      "|  TONY STARK|[oh, yeah,, thank...|       0.0|\n",
      "|  TONY STARK|[nice, to, meet, ...|       1.0|\n",
      "|  TONY STARK|[a, better, mouse...|       1.0|\n",
      "|  TONY STARK|[that’s, because,...|       1.0|\n",
      "|  TONY STARK|[yeah,, but, this...|       0.0|\n",
      "|  TONY STARK|[three, gigajoule...|       0.0|\n",
      "|  TONY STARK|[or, something, v...|       0.0|\n",
      "|PEPPER POTTS|      [a, little...]|       0.0|\n",
      "|PEPPER POTTS|[hey,, hey...we’v...|       0.0|\n",
      "|  TONY STARK|[looks, to, me, l...|       0.0|\n",
      "|  TONY STARK|[is, that, where,...|       0.0|\n",
      "|  TONY STARK|[“a”, i, don’t, k...|       0.0|\n",
      "|  TONY STARK|[please, don’t, u...|       0.0|\n",
      "|  TONY STARK|[unless, they’re,...|       0.0|\n",
      "|PEPPER POTTS|[so, that’s, it?,...|       2.0|\n",
      "|JAMES RHODES|[there’s, nothing...|       2.0|\n",
      "|PEPPER POTTS|[spare, me., , i,...|       2.0|\n",
      "|JAMES RHODES|[what, do, you, w...|       0.0|\n",
      "|PEPPER POTTS|[be, a, better, f...|       1.0|\n",
      "|JAMES RHODES|[going, back, the...|       0.0|\n",
      "|JAMES RHODES|[are, you, blocki...|       2.0|\n",
      "|JAMES RHODES|      [i, am,, sir.]|       2.0|\n",
      "|  TONY STARK|[we’re, ready., ,...|       0.0|\n",
      "|  TONY STARK|[right, back, at,...|       0.0|\n",
      "|  TONY STARK|[do, you, have, a...|       0.0|\n",
      "|  TONY STARK|            [...no.]|       0.0|\n",
      "|  TONY STARK|[yeah-yeah,, enjo...|       1.0|\n",
      "|  TONY STARK|[it’s, frozen,, t...|       0.0|\n",
      "|  TONY STARK|[get, to, your, c...|       1.0|\n",
      "|  TONY STARK|[we, could’ve, ma...|       1.0|\n",
      "|JAMES RHODES|[saving, your, as...|       1.0|\n",
      "|  TONY STARK|[help, me, out, o...|       0.0|\n",
      "|JAMES RHODES|[i, got, you,, pal.]|       0.0|\n",
      "|PEPPER POTTS|       [thank, you.]|       0.0|\n",
      "|  TONY STARK|[your, eyes, are,...|       0.0|\n",
      "|PEPPER POTTS|[tears, of, joy.,...|       0.0|\n",
      "|  TONY STARK|[you, do, somethi...|       1.0|\n",
      "|PEPPER POTTS|[we’re, due, at, ...|       2.0|\n",
      "|  TONY STARK|[no, --, to, the,...|       0.0|\n",
      "|  TONY STARK|[you’ll, see., , ...|       0.0|\n",
      "|PEPPER POTTS|[you’ll, have, to...|       0.0|\n",
      "|PEPPER POTTS|[that’s, a, mouth...|       2.0|\n",
      "|PEPPER POTTS|[look,, mr., coul...|       0.0|\n",
      "|PEPPER POTTS|[well,, great,, i...|       1.0|\n",
      "|PEPPER POTTS|[i’m, sure, he, w...|       2.0|\n",
      "|  TONY STARK|[i...can’t, do, t...|       0.0|\n",
      "|  TONY STARK|[no,, i, don’t, w...|       1.0|\n",
      "|  TONY STARK|[yes., , that’s, ...|       1.0|\n",
      "|  TONY STARK|[what, happened, ...|       1.0|\n",
      "|JAMES RHODES|[uhh,, weren’t, w...|       0.0|\n",
      "|  TONY STARK|[the, system, is,...|       0.0|\n",
      "|  TONY STARK|[in, the, coming,...|       1.0|\n",
      "|PEPPER POTTS|[you, mean, that?...|       2.0|\n",
      "|  TONY STARK|   [wait, and, see.]|       0.0|\n",
      "|  TONY STARK|[i, don’t, want, ...|       2.0|\n",
      "|  TONY STARK|[we, could, devel...|       2.0|\n",
      "|  TONY STARK|    [no, it, isn’t.]|       1.0|\n",
      "|  TONY STARK|[yes., , thanks, ...|       1.0|\n",
      "|  TONY STARK|   [hello,, jarvis.]|       0.0|\n",
      "|  TONY STARK|[...i, need, to, ...|       1.0|\n",
      "|  TONY STARK|[give, me, a, sca...|       0.0|\n",
      "|  TONY STARK|[it, powers, an, ...|       2.0|\n",
      "|  TONY STARK|[what, are, you, ...|       1.0|\n",
      "|  TONY STARK|[upgrade, recomme...|       0.0|\n",
      "|  TONY STARK|[because, you, ar...|       0.0|\n",
      "|  TONY STARK|[no., , it’s, ok....|       1.0|\n",
      "|  TONY STARK|[were, you, alway...|       0.0|\n",
      "|  TONY STARK|[fine., , could, ...|       0.0|\n",
      "|  TONY STARK|[ahh, that’s, mor...|       1.0|\n",
      "|  TONY STARK|    [machine, away.]|       0.0|\n",
      "|PEPPER POTTS|[yes., , i, remem...|       0.0|\n",
      "|PEPPER POTTS|[i, know, this, i...|       1.0|\n",
      "|PEPPER POTTS|        [not, sure.]|       1.0|\n",
      "|  TONY STARK|[pepper?, , how, ...|       0.0|\n",
      "|PEPPER POTTS|[agent, coulson,,...|       1.0|\n",
      "|  TONY STARK|[how, big, are, y...|       0.0|\n",
      "|PEPPER POTTS| [i, don’t, under--]|       0.0|\n",
      "|  TONY STARK|[--, just, get, d...|       0.0|\n",
      "|PEPPER POTTS|             [what?]|       0.0|\n",
      "|  TONY STARK|[just, show, me, ...|       0.0|\n",
      "|PEPPER POTTS|[so, that’s, the,...|       2.0|\n",
      "|  TONY STARK|[that’s, the, thi...|       2.0|\n",
      "|PEPPER POTTS|          [amazing.]|       0.0|\n",
      "|  TONY STARK|[i’m, going, to, ...|       2.0|\n",
      "|PEPPER POTTS|     [is, it, safe?]|       1.0|\n",
      "|  TONY STARK|[completely., , f...|       1.0|\n",
      "|PEPPER POTTS|[reach, in, to, w...|       0.0|\n",
      "|  TONY STARK|      [the, socket.]|       1.0|\n",
      "|PEPPER POTTS|     [what, socket?]|       0.0|\n",
      "|  TONY STARK|[the, chest, sock...|       1.0|\n",
      "|PEPPER POTTS|   [or, else, what?]|       0.0|\n",
      "|  TONY STARK|[i, can, go, into...|       2.0|\n",
      "|PEPPER POTTS|[i, thought, you,...|       0.0|\n",
      "|  TONY STARK|[i, didn’t, want,...|       0.0|\n",
      "|PEPPER POTTS|    [oh, my, god...]|       0.0|\n",
      "|  TONY STARK|[stay, with, me.,...|       1.0|\n",
      "|PEPPER POTTS|[i, don’t, know, ...|       0.0|\n",
      "|  TONY STARK|[i’m, telling, you.]|       2.0|\n",
      "|PEPPER POTTS|          [sorry...]|       0.0|\n",
      "|  TONY STARK|[listen., , i’m, ...|       1.0|\n",
      "|PEPPER POTTS|[won’t, that, mak...|       0.0|\n",
      "|  TONY STARK|[not, immediately...|       1.0|\n",
      "|PEPPER POTTS|   [to, the, right.]|       1.0|\n",
      "|  TONY STARK|[to, my, right., ...|       1.0|\n",
      "|PEPPER POTTS|    [to, the, left.]|       0.0|\n",
      "|  TONY STARK|            [right.]|       1.0|\n",
      "|PEPPER POTTS|             [left.]|       0.0|\n",
      "|  TONY STARK|   [right., , left.]|       1.0|\n",
      "|PEPPER POTTS|[how, deep, does,...|       2.0|\n",
      "|  TONY STARK|[keep, going., th...|       1.0|\n",
      "|PEPPER POTTS|       [ew!!!, pus!]|       1.0|\n",
      "|  TONY STARK|[it’s, not, pus.,...|       1.0|\n",
      "|PEPPER POTTS|[well, it, smells...|       0.0|\n",
      "|  TONY STARK| [yes., thank, you.]|       0.0|\n",
      "|PEPPER POTTS|[can, i, wash, my...|       1.0|\n",
      "|  TONY STARK|[the, new, unit, ...|       1.0|\n",
      "|PEPPER POTTS|[good,, cause, it...|       0.0|\n",
      "|  TONY STARK|      [it, is, now.]|       0.0|\n",
      "|PEPPER POTTS|[i, don’t, suppos...|       0.0|\n",
      "|  TONY STARK|[can, it, at, lea...|       1.0|\n",
      "|PEPPER POTTS|       [i, suppose.]|       0.0|\n",
      "|  TONY STARK|[throw, that, thi...|       2.0|\n",
      "|PEPPER POTTS|[don’t, you, want...|       0.0|\n",
      "|  TONY STARK|[why?, , it’s, an...|       2.0|\n",
      "|PEPPER POTTS|[you, made, it, o...|       2.0|\n",
      "|  TONY STARK|[pepper., , i, ha...|       1.0|\n",
      "|PEPPER POTTS|[you’re, welcome....|       0.0|\n",
      "|  TONY STARK|            [shoot.]|       0.0|\n",
      "|PEPPER POTTS|[i, don’t, do, we...|       0.0|\n",
      "|  TONY STARK|[i, don’t, have, ...|       0.0|\n",
      "|PEPPER POTTS|[will, that, be, ...|       0.0|\n",
      "|  TONY STARK|[that, will, be, ...|       0.0|\n",
      "|  TONY STARK|[these, aren’t, f...|       1.0|\n",
      "|  TONY STARK|[we’ll, start, of...|       0.0|\n",
      "|  TONY STARK|[great., , i,, uh...|       1.0|\n",
      "|JAMES RHODES|[manned, or, unma...|       1.0|\n",
      "|  TONY STARK|[why, not, take, ...|       2.0|\n",
      "|JAMES RHODES|[that, i’d, like,...|       0.0|\n",
      "|  TONY STARK|[who, wants, to, ...|       1.0|\n",
      "|JAMES RHODES|[all, right, --, ...|       1.0|\n",
      "|  TONY STARK|         [why, not?]|       0.0|\n",
      "|JAMES RHODES|[figured, you’d, ...|       1.0|\n",
      "|  TONY STARK|[why, does, every...|       0.0|\n",
      "|JAMES RHODES|[you’ve, been, th...|       0.0|\n",
      "|  TONY STARK|[i’ve, got, it, s...|       0.0|\n",
      "|JAMES RHODES|           [really?]|       0.0|\n",
      "|  TONY STARK|[i’m, onto, somet...|       2.0|\n",
      "|JAMES RHODES|[lot, of, people,...|       1.0|\n",
      "|  TONY STARK|[i, mean, what, i...|       2.0|\n",
      "|JAMES RHODES|[no, you, don’t.,...|       2.0|\n",
      "|  TONY STARK|[maybe, i, do, ne...|       2.0|\n",
      "|JAMES RHODES|[all, right, then...|       1.0|\n",
      "|  TONY STARK|         [likewise.]|       0.0|\n",
      "|PEPPER POTTS|[thought, you, we...|       0.0|\n",
      "|  TONY STARK|[it’s, a, flight-...|       0.0|\n",
      "|PEPPER POTTS|[well,, watch, wh...|       0.0|\n",
      "|  TONY STARK|[be, right, up., ...|       1.0|\n",
      "|  TONY STARK|[you, know,, i, h...|       0.0|\n",
      "|  TONY STARK|[i, know,, i’m, s...|       2.0|\n",
      "|  TONY STARK|             [what?]|       0.0|\n",
      "|  TONY STARK|[how, the, hell, ...|       1.0|\n",
      "|  TONY STARK|[with, the, amoun...|       0.0|\n",
      "|  TONY STARK|[nothing, to, it....|       0.0|\n",
      "|  TONY STARK|[we’ll, do, them,...|       0.0|\n",
      "|  TONY STARK|[that’s, why, you...|       0.0|\n",
      "|  TONY STARK|[never, interrupt...|       0.0|\n",
      "|  TONY STARK|[whatever, floats...|       0.0|\n",
      "|  TONY STARK|[uhh,, jarvis?, ,...|       0.0|\n",
      "|  TONY STARK|[jarvis,, i, thin...|       0.0|\n",
      "|  TONY STARK|[you’re, a, downe...|       0.0|\n",
      "|  TONY STARK|[no,, i, got, it,...|       1.0|\n",
      "|  TONY STARK|[yeah,, and, it, ...|       0.0|\n",
      "|  TONY STARK|[re-configure, us...|       1.0|\n",
      "|  TONY STARK|[wow, me., hm., ,...|       1.0|\n",
      "|  TONY STARK|[good., , i, shou...|       1.0|\n",
      "|  TONY STARK|[it’s, time, to, ...|       0.0|\n",
      "|  TONY STARK|[great., see, ya,...|       2.0|\n",
      "|  TONY STARK|[oh...was, i, sup...|       1.0|\n",
      "|  TONY STARK|[yes,, you’re, ri...|       0.0|\n",
      "|PEPPER POTTS|[thanks., , it, w...|       0.0|\n",
      "|  TONY STARK|[i, have, great, ...|       1.0|\n",
      "|PEPPER POTTS|[no,, i, always, ...|       0.0|\n",
      "|  TONY STARK|[would, it, help,...|       1.0|\n",
      "|PEPPER POTTS|[you, wouldn’t, l...|       0.0|\n",
      "|  TONY STARK|[i’m, not, so, su...|       0.0|\n",
      "|PEPPER POTTS|[what’s, your, so...|       1.0|\n",
      "|  TONY STARK|             [uh...]|       0.0|\n",
      "|PEPPER POTTS|[119-64-5484, i’m...|       2.0|\n",
      "|  TONY STARK|[can, i, get, you...|       0.0|\n",
      "|PEPPER POTTS|[a, vodka, martin...|       1.0|\n",
      "|  TONY STARK|             [okay.]|       1.0|\n",
      "|PEPPER POTTS|[and,, tony..., ,...|       2.0|\n",
      "|  TONY STARK|[no., , you’re, n...|       0.0|\n",
      "|  TONY STARK|     [how’s, panic?]|       1.0|\n",
      "|  TONY STARK|[hey,, they, just...|       0.0|\n",
      "|  TONY STARK|[when, were, thes...|       0.0|\n",
      "|  TONY STARK|[i, didn’t, appro...|       2.0|\n",
      "+------------+--------------------+----------+\n",
      "only showing top 300 rows\n",
      "\n"
     ]
    }
   ],
   "source": [
    "prediction = model.transform(hash_MCU)\n",
    "predictionFinal_mcu = prediction.select(\n",
    "  'character', \"new_line\", \"prediction\")\n",
    "predictionFinal_mcu.show(n=300)"
   ]
  },
  {
   "cell_type": "markdown",
   "metadata": {},
   "source": [
    "# Analysis"
   ]
  },
  {
   "cell_type": "code",
   "execution_count": 139,
   "metadata": {},
   "outputs": [],
   "source": [
    "import pandas as pd"
   ]
  },
  {
   "cell_type": "code",
   "execution_count": 140,
   "metadata": {},
   "outputs": [
    {
     "name": "stdout",
     "output_type": "stream",
     "text": [
      "+----------+-----+\n",
      "|prediction|count|\n",
      "+----------+-----+\n",
      "|       0.0| 3391|\n",
      "|       1.0| 1988|\n",
      "|       2.0| 1130|\n",
      "+----------+-----+\n",
      "\n"
     ]
    }
   ],
   "source": [
    "test = predictionFinal_mcu.groupBy('prediction').count()\n",
    "test.show()"
   ]
  },
  {
   "cell_type": "code",
   "execution_count": 141,
   "metadata": {},
   "outputs": [
    {
     "name": "stdout",
     "output_type": "stream",
     "text": [
      "+----------------+----------+-----+\n",
      "|       character|prediction|count|\n",
      "+----------------+----------+-----+\n",
      "|    JAMES RHODES|       1.0|   83|\n",
      "|    STEVE ROGERS|       0.0|  542|\n",
      "|            THOR|       0.0|  471|\n",
      "|      TONY STARK|       0.0|  864|\n",
      "|    PETER PARKER|       1.0|  176|\n",
      "|    PETER PARKER|       0.0|  281|\n",
      "|       NICK FURY|       2.0|   67|\n",
      "|    BRUCE BANNER|       0.0|  179|\n",
      "|      TONY STARK|       2.0|  313|\n",
      "|            THOR|       1.0|  266|\n",
      "|    BRUCE BANNER|       1.0|  113|\n",
      "|    STEVE ROGERS|       1.0|  263|\n",
      "|            LOKI|       2.0|   54|\n",
      "|            LOKI|       0.0|  163|\n",
      "|    JAMES RHODES|       0.0|  170|\n",
      "|NATASHA ROMANOFF|       0.0|  285|\n",
      "|       NICK FURY|       0.0|  188|\n",
      "|    JAMES RHODES|       2.0|   65|\n",
      "|NATASHA ROMANOFF|       1.0|  142|\n",
      "|            THOR|       2.0|  126|\n",
      "|    PEPPER POTTS|       1.0|  113|\n",
      "|    STEVE ROGERS|       2.0|  172|\n",
      "|      TONY STARK|       1.0|  611|\n",
      "|       NICK FURY|       1.0|  111|\n",
      "|    PETER PARKER|       2.0|   94|\n",
      "|    PEPPER POTTS|       0.0|  248|\n",
      "|    PEPPER POTTS|       2.0|   81|\n",
      "|NATASHA ROMANOFF|       2.0|   71|\n",
      "|    BRUCE BANNER|       2.0|   87|\n",
      "|            LOKI|       1.0|  110|\n",
      "+----------------+----------+-----+\n",
      "\n"
     ]
    }
   ],
   "source": [
    "char = predictionFinal_mcu.groupBy('character', 'prediction').count()\n",
    "char.show(100)"
   ]
  },
  {
   "cell_type": "code",
   "execution_count": 154,
   "metadata": {},
   "outputs": [
    {
     "name": "stdout",
     "output_type": "stream",
     "text": [
      "           character  prediction  count\n",
      "0       JAMES RHODES         1.0     83\n",
      "1       STEVE ROGERS         0.0    542\n",
      "2               THOR         0.0    471\n",
      "3         TONY STARK         0.0    864\n",
      "4       PETER PARKER         1.0    176\n",
      "5       PETER PARKER         0.0    281\n",
      "6          NICK FURY         2.0     67\n",
      "7       BRUCE BANNER         0.0    179\n",
      "8         TONY STARK         2.0    313\n",
      "9               THOR         1.0    266\n",
      "10      BRUCE BANNER         1.0    113\n",
      "11      STEVE ROGERS         1.0    263\n",
      "12              LOKI         2.0     54\n",
      "13              LOKI         0.0    163\n",
      "14      JAMES RHODES         0.0    170\n",
      "15  NATASHA ROMANOFF         0.0    285\n",
      "16         NICK FURY         0.0    188\n",
      "17      JAMES RHODES         2.0     65\n",
      "18  NATASHA ROMANOFF         1.0    142\n",
      "19              THOR         2.0    126\n",
      "20      PEPPER POTTS         1.0    113\n",
      "21      STEVE ROGERS         2.0    172\n",
      "22        TONY STARK         1.0    611\n",
      "23         NICK FURY         1.0    111\n",
      "24      PETER PARKER         2.0     94\n",
      "25      PEPPER POTTS         0.0    248\n",
      "26      PEPPER POTTS         2.0     81\n",
      "27  NATASHA ROMANOFF         2.0     71\n",
      "28      BRUCE BANNER         2.0     87\n",
      "29              LOKI         1.0    110\n"
     ]
    }
   ],
   "source": [
    "df = char.toPandas()\n",
    "print(df)"
   ]
  },
  {
   "cell_type": "code",
   "execution_count": 156,
   "metadata": {},
   "outputs": [
    {
     "name": "stdout",
     "output_type": "stream",
     "text": [
      "prediction        0.0  1.0  2.0\n",
      "character                      \n",
      "BRUCE BANNER      179  113   87\n",
      "JAMES RHODES      170   83   65\n",
      "LOKI              163  110   54\n",
      "NATASHA ROMANOFF  285  142   71\n",
      "NICK FURY         188  111   67\n",
      "PEPPER POTTS      248  113   81\n",
      "PETER PARKER      281  176   94\n",
      "STEVE ROGERS      542  263  172\n",
      "THOR              471  266  126\n",
      "TONY STARK        864  611  313\n"
     ]
    }
   ],
   "source": [
    "newf = df.pivot(index='character', columns='prediction')\n",
    "newf.columns = newf.columns.droplevel(0)\n",
    "print(newf)"
   ]
  },
  {
   "cell_type": "code",
   "execution_count": null,
   "metadata": {},
   "outputs": [],
   "source": []
  },
  {
   "cell_type": "code",
   "execution_count": null,
   "metadata": {},
   "outputs": [],
   "source": []
  }
 ],
 "metadata": {
  "kernelspec": {
   "display_name": "Python 3",
   "language": "python",
   "name": "python3"
  },
  "language_info": {
   "codemirror_mode": {
    "name": "ipython",
    "version": 3
   },
   "file_extension": ".py",
   "mimetype": "text/x-python",
   "name": "python",
   "nbconvert_exporter": "python",
   "pygments_lexer": "ipython3",
   "version": "3.8.3"
  }
 },
 "nbformat": 4,
 "nbformat_minor": 4
}
